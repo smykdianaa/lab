{
 "cells": [
  {
   "cell_type": "markdown",
   "id": "380068e4",
   "metadata": {},
   "source": [
    "# Перша програма"
   ]
  },
  {
   "cell_type": "code",
   "execution_count": null,
   "id": "372c0c5c",
   "metadata": {
    "vscode": {
     "languageId": "plaintext"
    }
   },
   "outputs": [],
   "source": [
    "from datetime import datetime\n",
    "name = \"Diana\"\n",
    "location = \"Lviv\"\n",
    "\n",
    "print(f\"{name} start programming at {datetime.now()}. {location} is the best city!\")"
   ]
  }
 ],
 "metadata": {
  "language_info": {
   "name": "python"
  }
 },
 "nbformat": 4,
 "nbformat_minor": 5
}
