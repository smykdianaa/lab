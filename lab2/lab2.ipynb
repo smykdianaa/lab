{
 "cells": [
  {
   "cell_type": "markdown",
   "id": "35e32086",
   "metadata": {},
   "source": [
    "1. Тут я ознайомилась з основними типами даних "
   ]
  },
  {
   "cell_type": "code",
   "execution_count": 4,
   "id": "c4906f1b",
   "metadata": {},
   "outputs": [
    {
     "name": "stdout",
     "output_type": "stream",
     "text": [
      "Python найкращий\n",
      "25\n",
      "3.14\n",
      "['a', 25, 3.14, 'Python найкращий']\n",
      "{'a': 25, 'текст': 'Python найкращий'}\n",
      "(25, 3.14, 'Python найкращий')\n",
      "{'Python', '25'}\n"
     ]
    }
   ],
   "source": [
    "a = \"Python найкращий\"\n",
    "b = 25\n",
    "c = 3.14\n",
    "d = [\"a\", b, c, a]\n",
    "e = {\"a\": b, \"текст\": a}\n",
    "f = (b, c, a)\n",
    "g = {\"Python\", str(b)}\n",
    "\n",
    "print(a)\n",
    "print(b)\n",
    "print(c)\n",
    "print(d)\n",
    "print(e)\n",
    "print(f)\n",
    "print(g)\n"
   ]
  },
  {
   "cell_type": "markdown",
   "id": "d0d031b0",
   "metadata": {},
   "source": [
    "2. Вбудовані константи та зарезервовані слова"
   ]
  },
  {
   "cell_type": "code",
   "execution_count": 5,
   "id": "3df4f0d3",
   "metadata": {},
   "outputs": [
    {
     "name": "stdout",
     "output_type": "stream",
     "text": [
      "True False None\n",
      "\n",
      "Here is a list of the Python keywords.  Enter any keyword to get more help.\n",
      "\n",
      "False               class               from                or\n",
      "None                continue            global              pass\n",
      "True                def                 if                  raise\n",
      "and                 del                 import              return\n",
      "as                  elif                in                  try\n",
      "assert              else                is                  while\n",
      "async               except              lambda              with\n",
      "await               finally             nonlocal            yield\n",
      "break               for                 not                 \n",
      "\n"
     ]
    }
   ],
   "source": [
    "print(True, False, None)\n",
    "\n",
    "import sys\n",
    "help(\"keywords\")"
   ]
  },
  {
   "cell_type": "markdown",
   "id": "d472d3c7",
   "metadata": {},
   "source": [
    "3. Робота з вбудованими функціями"
   ]
  },
  {
   "cell_type": "code",
   "execution_count": 8,
   "id": "89301ef2",
   "metadata": {},
   "outputs": [
    {
     "name": "stdout",
     "output_type": "stream",
     "text": [
      "8.5\n",
      "9\n",
      "20\n",
      "True\n"
     ]
    }
   ],
   "source": [
    "x = -8.5\n",
    "y = [3, 7, 1, 9]\n",
    "\n",
    "print( abs(x))\n",
    "print( max(y))\n",
    "print( sum(y))\n",
    "print( abs(-8.5) == abs(8.5))"
   ]
  },
  {
   "cell_type": "code",
   "execution_count": 14,
   "id": "dfc2618b",
   "metadata": {},
   "outputs": [
    {
     "name": "stdout",
     "output_type": "stream",
     "text": [
      "1) Число у списку: 10\n",
      "2) Число у списку: 20\n",
      "3) Число у списку: 30\n",
      "4) Число у списку: 40\n",
      "5) Число у списку: 50\n"
     ]
    }
   ],
   "source": [
    "\n",
    "numbers = [10, 20, 30, 40, 50]\n",
    "for i, n in enumerate(numbers):\n",
    "    print(f\"{i + 1}) Число у списку: {n}\")\n",
    "\n"
   ]
  },
  {
   "cell_type": "markdown",
   "id": "c6445f40",
   "metadata": {},
   "source": [
    "4. Ознайомлення з циклами"
   ]
  },
  {
   "cell_type": "code",
   "execution_count": 13,
   "id": "6a7a198f",
   "metadata": {},
   "outputs": [
    {
     "name": "stdout",
     "output_type": "stream",
     "text": [
      "Рахунок: 0\n",
      "Рахунок: 1\n",
      "Рахунок: 2\n",
      "Цикл завершився\n"
     ]
    }
   ],
   "source": [
    "count = 0\n",
    "while count < 3:\n",
    "    print(\"Рахунок:\", count)\n",
    "    count += 1\n",
    "else:\n",
    "    print(\"Цикл завершився\")\n"
   ]
  },
  {
   "cell_type": "code",
   "execution_count": 12,
   "id": "569af957",
   "metadata": {},
   "outputs": [
    {
     "name": "stdout",
     "output_type": "stream",
     "text": [
      "Буква: x\n",
      "Буква: y\n",
      "Буква: z\n",
      "Більше букв немає\n"
     ]
    }
   ],
   "source": [
    "letters = [\"x\", \"y\", \"z\"]\n",
    "for l in letters:\n",
    "    print(\"Буква:\", l)\n",
    "else:\n",
    "    print(\"Більше букв немає\")"
   ]
  },
  {
   "cell_type": "markdown",
   "id": "08af1635",
   "metadata": {},
   "source": [
    "5. Розгалуження\n"
   ]
  },
  {
   "cell_type": "code",
   "execution_count": 30,
   "id": "0c1f330f",
   "metadata": {},
   "outputs": [
    {
     "name": "stdout",
     "output_type": "stream",
     "text": [
      "Згенеровано число: -2\n",
      "-2 — парне число\n",
      "-2 — маленьке число\n",
      "Число -2 негативне або нуль\n"
     ]
    }
   ],
   "source": [
    "from random import randint\n",
    "\n",
    "a = randint(-4, 10)  \n",
    "print(f\"Згенеровано число: {a}\")\n",
    "\n",
    "if a % 2 == 0:\n",
    "    print(f\"{a} — парне число\")\n",
    "else:\n",
    "    print(f\"{a} — непарне число\")\n",
    "\n",
    "if a > 7:\n",
    "    print(f\"{a} — велике число\")\n",
    "elif a > 3:\n",
    "    print(f\"{a} — середнє число\")\n",
    "elif a > 3:\n",
    "    print(f\"{a} — середнє число\")\n",
    "else:\n",
    "    print(f\"{a} — маленьке число\")\n",
    "print(f\"Число {a} додатнє\" if a > 0 else f\"Число {a} відємне або нуль\")"
   ]
  },
  {
   "cell_type": "markdown",
   "id": "17012a57",
   "metadata": {},
   "source": [
    "6. Робота з конструкціями"
   ]
  },
  {
   "cell_type": "code",
   "execution_count": 44,
   "id": "4ade2395",
   "metadata": {},
   "outputs": [
    {
     "name": "stdout",
     "output_type": "stream",
     "text": [
      "Помилка: потрібно вводити тільки числа!\n",
      "Блок finally виконується завжди\n"
     ]
    }
   ],
   "source": [
    "\n",
    "try:\n",
    "    number = int(input(\"Введи число для ділення 100 на нього: \"))\n",
    "    result = 100 / number\n",
    "    print(\"Результат ділення:\", result)\n",
    "except ZeroDivisionError:\n",
    "    print(\"Помилка: на нуль ділити не можна!\")\n",
    "except ValueError:\n",
    "    print(\"Помилка: потрібно вводити тільки числа!\")\n",
    "finally:\n",
    "    print(\"Блок finally виконується завжди\")\n"
   ]
  },
  {
   "cell_type": "markdown",
   "id": "41516cda",
   "metadata": {},
   "source": [
    "7. Контекст-менеджер with"
   ]
  },
  {
   "cell_type": "code",
   "execution_count": 38,
   "id": "ea648da5",
   "metadata": {},
   "outputs": [
    {
     "name": "stdout",
     "output_type": "stream",
     "text": [
      "0)> # Мій перший файл README\n",
      "1)> Цей файл створено у Python.\n",
      "2)> Він показує, як працює контекст-менеджер with.\n"
     ]
    }
   ],
   "source": [
    "with open(\"README1.md\", \"w\", encoding=\"utf-8\") as f:\n",
    "    f.write(\"# Мій перший файл README\\n\")\n",
    "    f.write(\"Цей файл створено у Python.\\n\")\n",
    "    f.write(\"Він показує, як працює контекст-менеджер with.\\n\")\n",
    "\n",
    "\n",
    "with open(\"README1.md\", \"r\", encoding=\"utf-8\") as f:\n",
    "    for i, line in enumerate(f):\n",
    "        print(f\"{i})> {line.strip()}\")"
   ]
  },
  {
   "cell_type": "markdown",
   "id": "dd919ce7",
   "metadata": {},
   "source": [
    "8. Лямбда"
   ]
  },
  {
   "cell_type": "code",
   "execution_count": 40,
   "id": "7500d03b",
   "metadata": {},
   "outputs": [
    {
     "name": "stdout",
     "output_type": "stream",
     "text": [
      "Звичайна функція: 5\n",
      "Лямбда-функція: 5\n",
      "4 — парне\n",
      "7 — непарне\n"
     ]
    }
   ],
   "source": [
    "\n",
    "def add(a, b):\n",
    "    return a + b\n",
    "add_lambda = lambda a, b: a + b\n",
    "\n",
    "print(\"Звичайна функція:\", add(2, 3))\n",
    "print(\"Лямбда-функція:\", add_lambda(2, 3))\n",
    "\n",
    "# Лямбда для перевірки парності числа\n",
    "is_even = lambda x: \"парне\" if x % 2 == 0 else \"непарне\"\n",
    "print(\"4 —\", is_even(4))\n",
    "print(\"7 —\", is_even(7))\n"
   ]
  },
  {
   "cell_type": "markdown",
   "id": "ea878d07",
   "metadata": {},
   "source": [
    "9. Завдання з AI"
   ]
  },
  {
   "cell_type": "markdown",
   "id": "441658ed",
   "metadata": {},
   "source": [
    "## Основи Python — коротко"
   ]
  },
  {
   "cell_type": "code",
   "execution_count": 47,
   "id": "95d8332e",
   "metadata": {},
   "outputs": [
    {
     "name": "stdout",
     "output_type": "stream",
     "text": [
      "Привіт, світ!\n"
     ]
    }
   ],
   "source": [
    "# Приклад 1 — привітання\n",
    "print(\"Привіт, світ!\")"
   ]
  },
  {
   "cell_type": "code",
   "execution_count": 46,
   "id": "c52aff38",
   "metadata": {},
   "outputs": [
    {
     "name": "stdout",
     "output_type": "stream",
     "text": [
      "Сума: 12\n"
     ]
    }
   ],
   "source": [
    "# Приклад 2 — додавання чисел\n",
    "a = 5\n",
    "b = 7\n",
    "result = a + b\n",
    "print(\"Сума:\", result)"
   ]
  },
  {
   "cell_type": "code",
   "execution_count": 49,
   "id": "ade59bf5",
   "metadata": {},
   "outputs": [
    {
     "name": "stdout",
     "output_type": "stream",
     "text": [
      "1)> Це перший рядок.\n",
      "2)> Другий рядок тексту.\n",
      "3)> Третій рядок для прикладу.\n",
      "4)> Четвертий рядок завершує файл.\n"
     ]
    }
   ],
   "source": [
    "# Приклад 3 — запис і читання файлу через with open\n",
    "lines = [\n",
    "    \"Це перший рядок.\\n\",\n",
    "    \"Другий рядок тексту.\\n\",\n",
    "    \"Третій рядок для прикладу.\\n\",\n",
    "    \"Четвертий рядок завершує файл.\\n\"\n",
    "]\n",
    "path = r\"README1.md\"\n",
    "with open(path, \"w\", encoding=\"utf-8\") as f:\n",
    "    f.writelines(lines)\n",
    "\n",
    "with open(path, \"r\", encoding=\"utf-8\") as f:\n",
    "    for i, line in enumerate(f, start=1):\n",
    "        print(f\"{i})> {line.strip()}\")"
   ]
  }
 ],
 "metadata": {
  "kernelspec": {
   "display_name": "Python 3",
   "language": "python",
   "name": "python3"
  },
  "language_info": {
   "codemirror_mode": {
    "name": "ipython",
    "version": 3
   },
   "file_extension": ".py",
   "mimetype": "text/x-python",
   "name": "python",
   "nbconvert_exporter": "python",
   "pygments_lexer": "ipython3",
   "version": "3.13.7"
  }
 },
 "nbformat": 4,
 "nbformat_minor": 5
}
