{
 "cells": [
  {
   "cell_type": "markdown",
   "id": "c46c1735",
   "metadata": {},
   "source": [
    "# перший код за допомогою AI"
   ]
  },
  {
   "cell_type": "code",
   "execution_count": 2,
   "id": "0aa5ea6d",
   "metadata": {},
   "outputs": [
    {
     "name": "stdout",
     "output_type": "stream",
     "text": [
      "Привіт, світ!\n"
     ]
    }
   ],
   "source": [
    "# Мій перший код на Python\n",
    "print(\"Привіт, світ!\")"
   ]
  },
  {
   "cell_type": "markdown",
   "id": "7e5dd63d",
   "metadata": {},
   "source": [
    "## простий приклад запропонований AI"
   ]
  },
  {
   "cell_type": "code",
   "execution_count": null,
   "id": "6c2640fc",
   "metadata": {},
   "outputs": [
    {
     "name": "stdout",
     "output_type": "stream",
     "text": [
      "Сума: 12\n"
     ]
    }
   ],
   "source": [
    "a = 5\n",
    "b = 7\n",
    "result = a + b\n",
    "print(\"Сума:\", result)"
   ]
  },
  {
   "cell_type": "code",
   "execution_count": null,
   "id": "ef5676e8",
   "metadata": {},
   "outputs": [],
   "source": []
  }
 ],
 "metadata": {
  "kernelspec": {
   "display_name": "Python 3",
   "language": "python",
   "name": "python3"
  },
  "language_info": {
   "codemirror_mode": {
    "name": "ipython",
    "version": 3
   },
   "file_extension": ".py",
   "mimetype": "text/x-python",
   "name": "python",
   "nbconvert_exporter": "python",
   "pygments_lexer": "ipython3",
   "version": "3.13.7"
  }
 },
 "nbformat": 4,
 "nbformat_minor": 5
}
